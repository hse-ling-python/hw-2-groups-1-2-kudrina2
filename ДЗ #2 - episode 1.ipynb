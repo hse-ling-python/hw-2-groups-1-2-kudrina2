{
 "cells": [
  {
   "cell_type": "markdown",
   "metadata": {},
   "source": [
    "# Домашнее задание №2 - Часть 1"
   ]
  },
  {
   "cell_type": "markdown",
   "metadata": {},
   "source": [
    "В этом домашнем задании анализировать мы будем произведение А. П. Чехова \"Палата №6\" (Потому что произведения масштабнее обрабатывались непростительно долго)"
   ]
  },
  {
   "cell_type": "code",
   "execution_count": 1,
   "metadata": {},
   "outputs": [],
   "source": [
    "# !pip install pycodestyle flake8 pycodestyle_magic\n",
    "# %load_ext pycodestyle_magic\n",
    "# %pycodestyle_on"
   ]
  },
  {
   "cell_type": "markdown",
   "metadata": {},
   "source": [
    "Проверила, но закомментила, чтобы выводилось время."
   ]
  },
  {
   "cell_type": "code",
   "execution_count": 2,
   "metadata": {},
   "outputs": [
    {
     "name": "stdout",
     "output_type": "stream",
     "text": [
      "Requirement already satisfied: pymystem3 in c:\\users\\user\\anaconda3\\lib\\site-packages (0.2.0)\n",
      "Requirement already satisfied: requests in c:\\users\\user\\anaconda3\\lib\\site-packages (from pymystem3) (2.22.0)\n",
      "Requirement already satisfied: certifi>=2017.4.17 in c:\\users\\user\\anaconda3\\lib\\site-packages (from requests->pymystem3) (2019.6.16)\n",
      "Requirement already satisfied: urllib3!=1.25.0,!=1.25.1,<1.26,>=1.21.1 in c:\\users\\user\\anaconda3\\lib\\site-packages (from requests->pymystem3) (1.24.2)\n",
      "Requirement already satisfied: chardet<3.1.0,>=3.0.2 in c:\\users\\user\\anaconda3\\lib\\site-packages (from requests->pymystem3) (3.0.4)\n",
      "Requirement already satisfied: idna<2.9,>=2.5 in c:\\users\\user\\anaconda3\\lib\\site-packages (from requests->pymystem3) (2.8)\n",
      "Note: you may need to restart the kernel to use updated packages.\n"
     ]
    }
   ],
   "source": [
    "pip install pymystem3"
   ]
  },
  {
   "cell_type": "code",
   "execution_count": 3,
   "metadata": {},
   "outputs": [
    {
     "name": "stdout",
     "output_type": "stream",
     "text": [
      "Requirement already satisfied: pymorphy2 in c:\\users\\user\\anaconda3\\lib\\site-packages (0.8)\n",
      "Requirement already satisfied: pymorphy2-dicts<3.0,>=2.4 in c:\\users\\user\\anaconda3\\lib\\site-packages (from pymorphy2) (2.4.393442.3710985)\n",
      "Requirement already satisfied: docopt>=0.6 in c:\\users\\user\\anaconda3\\lib\\site-packages (from pymorphy2) (0.6.2)\n",
      "Requirement already satisfied: dawg-python>=0.7 in c:\\users\\user\\anaconda3\\lib\\site-packages (from pymorphy2) (0.7.2)\n",
      "Note: you may need to restart the kernel to use updated packages.\n"
     ]
    }
   ],
   "source": [
    "pip install pymorphy2"
   ]
  },
  {
   "cell_type": "markdown",
   "metadata": {},
   "source": [
    "### Обработка в mystem"
   ]
  },
  {
   "cell_type": "code",
   "execution_count": 4,
   "metadata": {},
   "outputs": [],
   "source": [
    "from pymystem3 import Mystem\n",
    "m = Mystem()"
   ]
  },
  {
   "cell_type": "code",
   "execution_count": 5,
   "metadata": {},
   "outputs": [],
   "source": [
    "with open('6.txt', 'r', encoding='utf-8') as f:\n",
    "    text = f.read()"
   ]
  },
  {
   "cell_type": "code",
   "execution_count": 6,
   "metadata": {},
   "outputs": [
    {
     "name": "stdout",
     "output_type": "stream",
     "text": [
      "Wall time: 10min 28s\n"
     ]
    }
   ],
   "source": [
    "%time ana = m.analyze(text)"
   ]
  },
  {
   "cell_type": "code",
   "execution_count": 7,
   "metadata": {},
   "outputs": [],
   "source": [
    "import json\n",
    "final = []\n",
    "for word in ana:\n",
    "    if 'analysis' in word:\n",
    "        final.append(word)\n",
    "\n",
    "with open('part1.json', 'w', encoding='utf-8') as f:\n",
    "    json.dump(final, f, ensure_ascii=False)"
   ]
  },
  {
   "cell_type": "markdown",
   "metadata": {},
   "source": [
    "Обрабатываем текст с помощью mystem, замеряем время работы."
   ]
  },
  {
   "cell_type": "markdown",
   "metadata": {},
   "source": [
    "### Обработка в pymorphy"
   ]
  },
  {
   "cell_type": "code",
   "execution_count": 8,
   "metadata": {},
   "outputs": [],
   "source": [
    "from pymorphy2 import MorphAnalyzer\n",
    "morph = MorphAnalyzer()"
   ]
  },
  {
   "cell_type": "code",
   "execution_count": 9,
   "metadata": {},
   "outputs": [],
   "source": [
    "with open('6.txt', 'r', encoding='utf-8') as f:\n",
    "    text = f.read()"
   ]
  },
  {
   "cell_type": "code",
   "execution_count": 10,
   "metadata": {},
   "outputs": [],
   "source": [
    "import nltk\n",
    "from nltk.tokenize import word_tokenize"
   ]
  },
  {
   "cell_type": "code",
   "execution_count": 11,
   "metadata": {},
   "outputs": [
    {
     "name": "stdout",
     "output_type": "stream",
     "text": [
      "Wall time: 338 ms\n"
     ]
    }
   ],
   "source": [
    "%time words = [w.lower() for w in word_tokenize(text) if w.isalpha()]"
   ]
  },
  {
   "cell_type": "code",
   "execution_count": 12,
   "metadata": {},
   "outputs": [
    {
     "name": "stdout",
     "output_type": "stream",
     "text": [
      "Wall time: 4.76 s\n"
     ]
    }
   ],
   "source": [
    "%%time\n",
    "for word in words:\n",
    "    morph.parse(word)"
   ]
  },
  {
   "cell_type": "markdown",
   "metadata": {},
   "source": [
    "Т.к. модуль %%time не регистрирует изменения происходящие с переменными в ячейке замеряем время работы цикла отдельно.(В этой домашке стоп-слова не удаляем)."
   ]
  },
  {
   "cell_type": "code",
   "execution_count": 13,
   "metadata": {},
   "outputs": [],
   "source": [
    "ready = []\n",
    "for word in words:\n",
    "    ready.append(morph.parse(word)[0])"
   ]
  },
  {
   "cell_type": "markdown",
   "metadata": {},
   "source": [
    "Используем только самый первый разбор."
   ]
  },
  {
   "cell_type": "code",
   "execution_count": 14,
   "metadata": {},
   "outputs": [],
   "source": [
    "final_morph = {}\n",
    "for word in ready:\n",
    "    final_morph[word.normal_form] = word.tag.POS"
   ]
  },
  {
   "cell_type": "code",
   "execution_count": 15,
   "metadata": {},
   "outputs": [],
   "source": [
    "import json\n",
    "with open('part2.json', 'w', encoding='utf-8') as f:\n",
    "    json.dump(final_morph, f, ensure_ascii=False)"
   ]
  },
  {
   "cell_type": "markdown",
   "metadata": {},
   "source": [
    "После обработки книги можно поработать с ее содержимым."
   ]
  },
  {
   "cell_type": "markdown",
   "metadata": {},
   "source": [
    "### Задание №4"
   ]
  },
  {
   "cell_type": "code",
   "execution_count": 16,
   "metadata": {},
   "outputs": [],
   "source": [
    "from collections import Counter\n",
    "partofspeeches = Counter(final_morph.values())"
   ]
  },
  {
   "cell_type": "code",
   "execution_count": 17,
   "metadata": {},
   "outputs": [
    {
     "data": {
      "text/plain": [
       "Counter({'NOUN': 0.081,\n",
       "         None: 0.001,\n",
       "         'ADJF': 0.029,\n",
       "         'PREP': 0.002,\n",
       "         'VERB': 0.046,\n",
       "         'PRTF': 0.003,\n",
       "         'ADVB': 0.019,\n",
       "         'CONJ': 0.003,\n",
       "         'ADJS': 0.005,\n",
       "         'INFN': 0.012,\n",
       "         'PRCL': 0.001,\n",
       "         'NPRO': 0.001,\n",
       "         'GRND': 0.005,\n",
       "         'PRTS': 0.002,\n",
       "         'COMP': 0.001,\n",
       "         'PRED': 0.001,\n",
       "         'NUMR': 0.001,\n",
       "         'INTJ': 0.001})"
      ]
     },
     "execution_count": 17,
     "metadata": {},
     "output_type": "execute_result"
    }
   ],
   "source": [
    "k = int(len(words))\n",
    "for key in partofspeeches:\n",
    "    partofspeeches[key] = round(int(partofspeeches[key])/k, 3)\n",
    "partofspeeches"
   ]
  },
  {
   "cell_type": "markdown",
   "metadata": {},
   "source": [
    "Здесь находится частотный словарь, который выводит, какую часть от целого составляет каждая часть речи"
   ]
  },
  {
   "cell_type": "code",
   "execution_count": 18,
   "metadata": {},
   "outputs": [
    {
     "data": {
      "text/plain": [
       "[('быть', 152),\n",
       " ('сказать', 64),\n",
       " ('говорить', 50),\n",
       " ('ходить', 28),\n",
       " ('думать', 28),\n",
       " ('мочь', 28),\n",
       " ('знать', 27),\n",
       " ('жить', 24),\n",
       " ('сидеть', 23),\n",
       " ('иметь', 22),\n",
       " ('стать', 20),\n",
       " ('хотеть', 19),\n",
       " ('ефимычать', 18),\n",
       " ('пить', 17),\n",
       " ('видеть', 17),\n",
       " ('дать', 17),\n",
       " ('выйти', 16),\n",
       " ('любить', 15),\n",
       " ('считать', 15),\n",
       " ('читать', 15)]"
      ]
     },
     "execution_count": 18,
     "metadata": {},
     "output_type": "execute_result"
    }
   ],
   "source": [
    "top_20 = []\n",
    "for word in ready:\n",
    "    if word.tag.POS is not None and 'VERB' in word.tag.POS:\n",
    "        top_20.append(word.normal_form)\n",
    "    elif word.tag.POS is not None and 'INFN' in word.tag.POS:\n",
    "        top_20.append(word.normal_form)\n",
    "Counter(top_20).most_common(20)"
   ]
  },
  {
   "cell_type": "code",
   "execution_count": 19,
   "metadata": {},
   "outputs": [
    {
     "data": {
      "text/plain": [
       "[('уже', 41),\n",
       " ('потом', 33),\n",
       " ('теперь', 30),\n",
       " ('очень', 27),\n",
       " ('всегда', 22),\n",
       " ('здесь', 20),\n",
       " ('никогда', 19),\n",
       " ('вдруг', 19),\n",
       " ('совершенно', 17),\n",
       " ('дорогой', 17),\n",
       " ('потому', 14),\n",
       " ('скоро', 13),\n",
       " ('тоже', 13),\n",
       " ('совсем', 13),\n",
       " ('тут', 13),\n",
       " ('всего', 12),\n",
       " ('давно', 12),\n",
       " ('зачем', 12),\n",
       " ('утром', 11),\n",
       " ('где', 11)]"
      ]
     },
     "execution_count": 19,
     "metadata": {},
     "output_type": "execute_result"
    }
   ],
   "source": [
    "top_20_2 = []\n",
    "for word in ready:\n",
    "    if word.tag.POS is not None and 'ADVB' in word.tag.POS:\n",
    "        top_20_2.append(word.normal_form)\n",
    "Counter(top_20_2).most_common(20)"
   ]
  },
  {
   "cell_type": "markdown",
   "metadata": {},
   "source": [
    "Словари с топ-20 глаголами и наречиями"
   ]
  },
  {
   "cell_type": "markdown",
   "metadata": {},
   "source": [
    "### Задание №5"
   ]
  },
  {
   "cell_type": "code",
   "execution_count": 20,
   "metadata": {},
   "outputs": [
    {
     "data": {
      "text/plain": [
       "[(('андрей', 'ефимыча'), 96),\n",
       " (('иван', 'дмитрич'), 52),\n",
       " (('михаил', 'аверьян'), 45),\n",
       " (('у', 'он'), 39),\n",
       " (('он', 'не'), 39),\n",
       " (('и', 'в'), 38),\n",
       " (('андрей', 'ефимычать'), 37),\n",
       " (('что', 'он'), 29),\n",
       " (('и', 'не'), 28),\n",
       " (('он', 'быть'), 22),\n",
       " (('что', 'в'), 22),\n",
       " (('не', 'быть'), 20),\n",
       " (('он', 'в'), 18),\n",
       " (('в', 'палата'), 17),\n",
       " (('и', 'с'), 16),\n",
       " (('и', 'он'), 16),\n",
       " (('он', 'и'), 15),\n",
       " (('в', 'город'), 15),\n",
       " (('в', 'это'), 15),\n",
       " (('вы', 'не'), 14),\n",
       " (('так', 'как'), 14),\n",
       " (('в', 'один'), 13),\n",
       " (('и', 'на'), 13),\n",
       " (('что', 'это'), 13),\n",
       " (('что', 'вы'), 13)]"
      ]
     },
     "execution_count": 20,
     "metadata": {},
     "output_type": "execute_result"
    }
   ],
   "source": [
    "from nltk import ngrams\n",
    "for_ngrams = []\n",
    "for word in ready:\n",
    "    for_ngrams.append(word.normal_form)\n",
    "n = 2\n",
    "bigrams = ngrams(for_ngrams, n)\n",
    "\n",
    "Counter(bigrams).most_common(25)"
   ]
  },
  {
   "cell_type": "code",
   "execution_count": 21,
   "metadata": {},
   "outputs": [
    {
     "data": {
      "text/plain": [
       "[(('сказать', 'андрей', 'ефимыча'), 10),\n",
       " (('в', 'самый', 'дело'), 9),\n",
       " (('у', 'он', 'быть'), 8),\n",
       " (('к', 'андрей', 'ефимычать'), 7),\n",
       " (('рано', 'или', 'поздно'), 6),\n",
       " (('в', 'тот', 'что'), 6),\n",
       " (('иван', 'дмитрич', 'и'), 6),\n",
       " (('михаил', 'аверьян', 'и'), 6),\n",
       " (('из', 'угол', 'в'), 5),\n",
       " (('угол', 'в', 'угол'), 5),\n",
       " (('на', 'диван', 'и'), 5),\n",
       " (('проговорить', 'иван', 'дмитрич'), 5),\n",
       " (('андрей', 'ефимычать', 'и'), 5),\n",
       " (('ходить', 'из', 'угол'), 4),\n",
       " (('что', 'он', 'не'), 4),\n",
       " (('он', 'не', 'быть'), 4),\n",
       " (('иван', 'дмитрич', 'с'), 4),\n",
       " (('у', 'он', 'на'), 4),\n",
       " (('к', 'тот', 'же'), 4),\n",
       " (('в', 'один', 'из'), 4),\n",
       " (('не', 'выходить', 'из'), 4),\n",
       " (('о', 'тот', 'что'), 4),\n",
       " (('иван', 'дмитрич', 'в'), 4),\n",
       " (('доктор', 'андрей', 'ефимыча'), 4),\n",
       " (('в', 'палата', 'n'), 4)]"
      ]
     },
     "execution_count": 21,
     "metadata": {},
     "output_type": "execute_result"
    }
   ],
   "source": [
    "n = 3\n",
    "trigrams = ngrams(for_ngrams, n)\n",
    "Counter(trigrams).most_common(25)"
   ]
  },
  {
   "cell_type": "markdown",
   "metadata": {},
   "source": [
    "И, наконец, частотные словари для н-грамм"
   ]
  }
 ],
 "metadata": {
  "kernelspec": {
   "display_name": "Python 3",
   "language": "python",
   "name": "python3"
  },
  "language_info": {
   "codemirror_mode": {
    "name": "ipython",
    "version": 3
   },
   "file_extension": ".py",
   "mimetype": "text/x-python",
   "name": "python",
   "nbconvert_exporter": "python",
   "pygments_lexer": "ipython3",
   "version": "3.7.3"
  }
 },
 "nbformat": 4,
 "nbformat_minor": 2
}
